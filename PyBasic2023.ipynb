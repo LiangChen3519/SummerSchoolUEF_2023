{
 "cells": [
  {
   "cell_type": "raw",
   "id": "4c649340",
   "metadata": {},
   "source": [
    "---\n",
    "title: 'Python basics for summer school-2023, UEF'\n",
    "subtitle: Linking python to basic data science\"\n",
    "author:\n",
    "  name: Liang Chen\n",
    "  affiliations:\n",
    "    name: University of Eastern Finland\n",
    "    cicy: Joensuu\n",
    "  email: liangch@uef.fi\n",
    "  orcid: 0000-0002-1811-5717\n",
    "date: '2023-08-08'\n",
    "format:\n",
    "  revealjs:\n",
    "    height: 900\n",
    "    width: 1350\n",
    "    slide-number: true\n",
    "    preview-links: auto\n",
    "    chalkboard:\n",
    "      buttons: true\n",
    "    logo: UEF musta logo engl pysty.jpg\n",
    "    theme: simple\n",
    "    menu:\n",
    "      width: wide\n",
    "title-slide-attributes:\n",
    "  data-background-image: TittleLogo.png\n",
    "  data-background-size: 50%\n",
    "  data-background-position: 5% 5%\n",
    "engine: jupyter\n",
    "keep-ipynb: true\n",
    "---"
   ]
  },
  {
   "cell_type": "markdown",
   "id": "31191f46",
   "metadata": {},
   "source": [
    "## Table of Contents\n",
    "\n",
    "In this course, we will show you basic syntax of python and some usefull packages regard to data science.\n",
    "\n",
    "::: columns\n",
    "::: {.column width=\"50%\"}\n",
    "- What is python\n",
    "- Basic Python syntax\n",
    "  - Variables\n",
    "  - Basic arithmetic operations\n",
    "- Control Flow Statements\n",
    "  - Conditional statements \n",
    "  - Loops\n",
    "\n",
    "![](python-logo.png)\n",
    "\n",
    ":::\n",
    "\n",
    "::: {.column width=\"50%\"}\n",
    "- Function\n",
    "  - define and call function\n",
    "- Usefull modules\n",
    "  - Numpy\n",
    "  - Pandas\n",
    "  - Scipy\n",
    "  - Geopandas\n",
    ":::\n",
    ":::\n",
    "\n",
    "## What is Python? \n",
    "\n",
    "- High-level, interpreted programming language.\n",
    "- Known for its simplicity and readability.\n",
    "- Used for web development, data analysis, artificial intelligence, and more.\n",
    "\n",
    "::: panel-tabset\n",
    "### Ranking1 \n",
    "\n",
    "![](Ranking1.png){.absolute height=\"400\"}\n",
    "\n",
    "### Ranking2\n",
    "\n",
    "![](Ranking2.png){.absolute height=\"400\"}\n",
    ":::\n",
    "\n",
    "::: footer\n",
    "Learn more: [TIOBE](https://www.tiobe.com/tiobe-index/)\n",
    ":::\n",
    "\n",
    "\n",
    "## What is Python?\n",
    "### Python is a user-frendly language\n",
    "\n",
    "For exammple, output *Hello, World!* in C# and Python.\n",
    "\n",
    "::: {.fragment .fade-in} \n",
    "Strong community support and a vast number of libraries (**137,000**)\n",
    ":::\n",
    "\n",
    "\n",
    "::: panel-tabset\n",
    "### C\\#\n",
    "\n",
    "```c#\n",
    "namespace ConsoleApp1\n",
    "{\n",
    "    internal class Program\n",
    "    {\n",
    "        static void Main(string[] args)\n",
    "        {\n",
    "            Console.WriteLine(\"Hello, World!\");\n",
    "        }\n",
    "    }\n",
    "}\n",
    "```\n",
    "\n",
    "### Python\n",
    "\n",
    "```python\n",
    "print(\"Hello, World!\")\n",
    "```\n",
    ":::\n",
    "::: {.fragment .fade-in}\n",
    "There is a joke:  **Life is short, you need Python.**\n",
    ":::\n",
    "\n",
    "## Basic Python syntax {auto-animate=\"true\"}\n",
    "\n",
    "One biggest difference of syntax between Python and other languages is that:\n",
    "\n",
    "- **Python uses *indentation* rather than'{}' to control functions or loops or conditioanl statement.**\n",
    "\n",
    "🙅‍♂️\n",
    "\n",
    "```python\n",
    "if 5 > 2 {\n",
    "  print(\"Five is greater than two!\")\n",
    "}\n",
    "```\n",
    "\n",
    "## Basic Python syntax {auto-animate=\"true\"}\n",
    "\n",
    "One biggest difference of syntax between Python and other languages is that:\n",
    "\n",
    "- **Python uses *indentation* rather than'{}' to control functions or loops or conditioanl statement.**\n",
    "\n",
    "🙆‍♂️\n",
    "\n",
    "```python\n",
    "if 5 > 2:\n",
    "  print(\"Five is greater than two!\")\n",
    "```\n",
    "\n",
    "## Basic Python syntax\n",
    "\n",
    "One biggest difference of syntax between Python and other languages is that:\n",
    "\n",
    "- **Python uses *indentation* rather than '{}' to control functions or loops or conditioanl statement.**\n",
    "\n",
    "```{.python code-line-numbers=\"1,3\"}\n",
    "if 5 > 2 {\n",
    "  print(\"Five is greater than two!\")\n",
    "}\n",
    "```\n",
    "</br>\n",
    "```{.python code-line-numbers=\"2\"}\n",
    "if 5 > 2:\n",
    "  print(\"Five is greater than two!\")\n",
    "```\n",
    "\n",
    "</br>\n",
    "\n",
    "How about we remove the *indentation* of above code:\n",
    "\n",
    "</br>\n",
    "\n",
    "::: {.fragment .fade-in}\n"
   ]
  },
  {
   "cell_type": "code",
   "execution_count": 1,
   "id": "88cb3516",
   "metadata": {},
   "outputs": [
    {
     "ename": "IndentationError",
     "evalue": "expected an indented block (2406224367.py, line 2)",
     "output_type": "error",
     "traceback": [
      "\u001b[1;36m  Cell \u001b[1;32mIn[307], line 2\u001b[1;36m\u001b[0m\n\u001b[1;33m    print(\"Five is greater than two!\")\u001b[0m\n\u001b[1;37m    ^\u001b[0m\n\u001b[1;31mIndentationError\u001b[0m\u001b[1;31m:\u001b[0m expected an indented block\n"
     ]
    }
   ],
   "source": [
    "#| error: true\n",
    "#| echo: true\n",
    "\n",
    "if 5 > 2:\n",
    "print(\"Five is greater than two!\")"
   ]
  },
  {
   "cell_type": "markdown",
   "id": "e3b91a64",
   "metadata": {},
   "source": [
    ":::\n",
    "\n",
    "## Basic Python syntax {.smaller}\n",
    "### Variables\n",
    "\n",
    "\n",
    "In Python, there are several built-in data types for variables. Here is a table listing some of the common variable types in Python:\n",
    "\n",
    "</br>\n",
    "\n",
    "| Variable Type  | Description                                 | Example                      |\n",
    "|----------------|---------------------------------------------|------------------------------|\n",
    "| int            | Integer numbers without decimal points     | x = 1                        |\n",
    "| float          | Floating-point numbers with decimal points | y = 3.1415926                     |\n",
    "| str            | Strings (sequences of characters)          | name = \"Teemo\"                |\n",
    "| bool           | Boolean values (True or False)             | flag = True            |\n",
    "| list           | Ordered, mutable collection of elements    | numbers = [1, 2, 3]          |\n",
    "| tuple          | Ordered, immutable collection of elements  | coordinates = (10, 20)       |\n",
    "| set            | Unordered, mutable collection of unique elements | unique_numbers = {1, 2, 3} |\n",
    "| dict           | Collection of key-value pairs              | person = {'name': 'Alice', 'age': 30} |\n",
    "| NoneType       | Represents the absence of a value          | no_value = None              |\n",
    "\n",
    "\n",
    "\n",
    "## Basic Python syntax\n",
    "### Variables\n",
    "\n",
    "- left is variable name, right is value.\n"
   ]
  },
  {
   "cell_type": "code",
   "execution_count": 2,
   "id": "5be9ebd1",
   "metadata": {},
   "outputs": [
    {
     "name": "stdout",
     "output_type": "stream",
     "text": [
      "1\n",
      "3.1\n",
      "Teemo\n"
     ]
    }
   ],
   "source": [
    "#| echo: true\n",
    "\n",
    "a = 1\n",
    "b = 3.1\n",
    "c = \"Teemo\"\n",
    "\n",
    "# or you can assign variables just like follow:\n",
    "\n",
    "a,b,c = 1,3.1,\"Teemo\"\n",
    "print(a)\n",
    "print(b)\n",
    "print(c)"
   ]
  },
  {
   "cell_type": "markdown",
   "id": "806049f0",
   "metadata": {},
   "source": [
    "- Always give a value when you start to create a variable\n"
   ]
  },
  {
   "cell_type": "code",
   "execution_count": 3,
   "id": "1d34c77f",
   "metadata": {},
   "outputs": [
    {
     "ename": "NameError",
     "evalue": "name 'd' is not defined",
     "output_type": "error",
     "traceback": [
      "\u001b[1;31m---------------------------------------------------------------------------\u001b[0m",
      "\u001b[1;31mNameError\u001b[0m                                 Traceback (most recent call last)",
      "Cell \u001b[1;32mIn[309], line 1\u001b[0m\n\u001b[1;32m----> 1\u001b[0m \u001b[43md\u001b[49m\n\u001b[0;32m      2\u001b[0m \u001b[38;5;28mprint\u001b[39m(d)\n",
      "\u001b[1;31mNameError\u001b[0m: name 'd' is not defined"
     ]
    }
   ],
   "source": [
    "#| error: true\n",
    "#| echo: true\n",
    "\n",
    "d\n",
    "print(d)"
   ]
  },
  {
   "cell_type": "code",
   "execution_count": 4,
   "id": "376b0ed1",
   "metadata": {},
   "outputs": [
    {
     "data": {
      "text/plain": [
       "'11'"
      ]
     },
     "execution_count": 310,
     "metadata": {},
     "output_type": "execute_result"
    }
   ],
   "source": [
    "str(1)+'1'"
   ]
  },
  {
   "cell_type": "markdown",
   "id": "fcbdb972",
   "metadata": {},
   "source": [
    "## Basic Python syntax \n",
    "### Variables\n",
    "\n",
    "- It is possible for converting data of one type to another.\n",
    "    - Implicit Conversion - automatic type conversion\n",
    "    - Explicit Conversion - manual type conversion\n",
    "    \n",
    "For example:\n"
   ]
  },
  {
   "cell_type": "code",
   "execution_count": 5,
   "id": "ec38c2f9",
   "metadata": {},
   "outputs": [
    {
     "name": "stdout",
     "output_type": "stream",
     "text": [
      "a is <class 'int'>\n",
      "b is <class 'float'>\n",
      "c is <class 'float'>\n"
     ]
    }
   ],
   "source": [
    "#| error: true\n",
    "#| echo: true\n",
    "\n",
    "\n",
    "# Implicit Conversion\n",
    "a = 1\n",
    "print(f\"a is {type(a)}\")\n",
    "\n",
    "b = 1.0\n",
    "print(f\"b is {type(b)}\")\n",
    "\n",
    "c = a+b\n",
    "print(f\"c is {type(c)}\")"
   ]
  },
  {
   "cell_type": "markdown",
   "id": "ad62ab8c",
   "metadata": {},
   "source": [
    "## Basic Python syntax\n",
    "### Variables\n",
    "\n",
    "- It is possible for converting data of one type to another.\n",
    "    - Implicit Conversion - automatic type conversion\n",
    "    - Explicit Conversion - manual type conversion\n",
    "    \n",
    "For example:\n"
   ]
  },
  {
   "cell_type": "code",
   "execution_count": 6,
   "id": "f38474f2",
   "metadata": {},
   "outputs": [
    {
     "name": "stdout",
     "output_type": "stream",
     "text": [
      "a is <class 'int'>\n",
      "b is <class 'str'>\n"
     ]
    },
    {
     "ename": "TypeError",
     "evalue": "unsupported operand type(s) for +: 'int' and 'str'",
     "output_type": "error",
     "traceback": [
      "\u001b[1;31m---------------------------------------------------------------------------\u001b[0m",
      "\u001b[1;31mTypeError\u001b[0m                                 Traceback (most recent call last)",
      "Cell \u001b[1;32mIn[312], line 8\u001b[0m\n\u001b[0;32m      5\u001b[0m b \u001b[38;5;241m=\u001b[39m \u001b[38;5;124m\"\u001b[39m\u001b[38;5;124mpython\u001b[39m\u001b[38;5;124m\"\u001b[39m\n\u001b[0;32m      6\u001b[0m \u001b[38;5;28mprint\u001b[39m(\u001b[38;5;124mf\u001b[39m\u001b[38;5;124m\"\u001b[39m\u001b[38;5;124mb is \u001b[39m\u001b[38;5;132;01m{\u001b[39;00m\u001b[38;5;28mtype\u001b[39m(b)\u001b[38;5;132;01m}\u001b[39;00m\u001b[38;5;124m\"\u001b[39m)\n\u001b[1;32m----> 8\u001b[0m c \u001b[38;5;241m=\u001b[39m \u001b[43ma\u001b[49m\u001b[38;5;241;43m+\u001b[39;49m\u001b[43mb\u001b[49m\n\u001b[0;32m      9\u001b[0m \u001b[38;5;28mprint\u001b[39m(\u001b[38;5;124mf\u001b[39m\u001b[38;5;124m\"\u001b[39m\u001b[38;5;124mc is \u001b[39m\u001b[38;5;132;01m{\u001b[39;00m\u001b[38;5;28mtype\u001b[39m(c)\u001b[38;5;132;01m}\u001b[39;00m\u001b[38;5;124m\"\u001b[39m)\n",
      "\u001b[1;31mTypeError\u001b[0m: unsupported operand type(s) for +: 'int' and 'str'"
     ]
    }
   ],
   "source": [
    "#| error: true\n",
    "#| echo: true\n",
    "\n",
    "# Explicit Conversion\n",
    "a = 1\n",
    "print(f\"a is {type(a)}\")\n",
    "\n",
    "b = \"python\"\n",
    "print(f\"b is {type(b)}\")\n",
    "\n",
    "c = a+b\n",
    "print(f\"c is {type(c)}\")"
   ]
  },
  {
   "cell_type": "code",
   "execution_count": 7,
   "id": "02882e45",
   "metadata": {},
   "outputs": [
    {
     "name": "stdout",
     "output_type": "stream",
     "text": [
      "1python is <class 'str'>\n"
     ]
    }
   ],
   "source": [
    "#| error: true\n",
    "#| echo: true\n",
    "\n",
    "c = str(a) + b \n",
    "print(f\"{c} is {type(c)}\")"
   ]
  },
  {
   "cell_type": "markdown",
   "id": "f5d861be",
   "metadata": {},
   "source": [
    "## Basic Python syntax\n",
    "### Variables ---- *list*\n",
    "\n",
    "- Elements can be mixed with different types\n",
    "```python\n",
    "list1 = [1, \"2\", True, 4]\n",
    "```\n",
    "- Element can be selected by position index (from 0)\n"
   ]
  },
  {
   "cell_type": "code",
   "execution_count": 8,
   "id": "920ad613",
   "metadata": {},
   "outputs": [
    {
     "name": "stdout",
     "output_type": "stream",
     "text": [
      "2\n"
     ]
    }
   ],
   "source": [
    "#|echo: true\n",
    "\n",
    "\n",
    "list1 = [1, \"2\", True, 4]\n",
    "print(list1[1])"
   ]
  },
  {
   "cell_type": "markdown",
   "id": "4a3479bd",
   "metadata": {},
   "source": [
    "## Basic Python syntax {.smaller}\n",
    "### Variables ---- *list*\n",
    "\n",
    "<br/>\n",
    "\n",
    "| Method                     | Description                                             |\n",
    "| -------------------------- | ------------------------------------------------------- |\n",
    "| `append(item)`             | Add an element `item` to the end of the list.          |\n",
    "| `extend(iterable)`         | Extend the list by appending elements from `iterable`. |\n",
    "| `insert(index, item)`      | Insert `item` at the specified `index`.                |\n",
    "| `remove(item)`             | Remove the first occurrence of `item` from the list.   |\n",
    "| `pop(index=-1)`            | Remove and return the element at `index`.              |\n",
    "| `clear()`                  | Remove all elements from the list.                     |\n",
    "| `index(item, start, end)`  | Return the index of the first occurrence of `item`.    |\n",
    "| `count(item)`              | Return the number of occurrences of `item`.            |\n",
    "| `sort(key, reverse)`       | Sort the list in ascending or descending order.        |\n",
    "| `reverse()`                | Reverse the order of elements in the list.             |\n",
    "| `copy()`                   | Create a shallow copy of the list.                     |\n",
    "\n",
    "\n",
    "\n",
    "## Basic Python syntax\n",
    "### Variables ---- *dict*\n",
    "\n",
    "- Dictionaries are used to store data values in key:value pairs.\n",
    "    - ordered\n",
    "    - changeable\n",
    "    - not allow duplicates\n",
    "\n",
    "```python\n",
    "phone = {\n",
    "  \"brand\": \"Nokia\",\n",
    "  \"model\": \"N95\",\n",
    "  \"year\": 2006\n",
    "}\n",
    "```\n",
    "\n",
    "## Basic Python syntax\n",
    "### Variables ---- *dict*\n",
    "\n",
    "To get keys or values of a dict:\n",
    "\n",
    "- directly call the key\n"
   ]
  },
  {
   "cell_type": "code",
   "execution_count": 9,
   "id": "6b7f5904",
   "metadata": {},
   "outputs": [
    {
     "name": "stdout",
     "output_type": "stream",
     "text": [
      "N95\n",
      "N95\n"
     ]
    }
   ],
   "source": [
    "#| echo: true\n",
    "\n",
    "\n",
    "phone = {\n",
    "  \"brand\": \"Nokia\",\n",
    "  \"model\": \"N95\",\n",
    "  \"year\": 2006\n",
    "}\n",
    "\n",
    "print(phone['model'])\n",
    "#or\n",
    "print(phone.get('model'))"
   ]
  },
  {
   "cell_type": "code",
   "execution_count": 10,
   "id": "38d275ca",
   "metadata": {},
   "outputs": [
    {
     "name": "stdout",
     "output_type": "stream",
     "text": [
      "dict_values(['Nokia', 'N95', 2006])\n",
      "dict_keys(['brand', 'model', 'year'])\n",
      "dict_items([('brand', 'Nokia'), ('model', 'N95'), ('year', 2006)])\n"
     ]
    }
   ],
   "source": [
    "#| echo: true\n",
    "\n",
    "#get values\n",
    "print(phone.values())\n",
    "#get keys\n",
    "print(phone.keys())\n",
    "# or both\n",
    "print(phone.items())"
   ]
  },
  {
   "cell_type": "markdown",
   "id": "d065f95d",
   "metadata": {},
   "source": [
    "## Basic Python syntax\n",
    "### Basic arithmetic operations\n",
    "\n",
    "<br/>\n",
    "\n",
    "| Operation     | Operator | Example           | Result      |\n",
    "|---------------|----------|-------------------|-------------|\n",
    "| Addition      | +        | 5 + 3             | 8           |\n",
    "| Subtraction   | -        | 7 - 2             | 5           |\n",
    "| Multiplication| *        | 4 * 6             | 24          |\n",
    "| Division      | /        | 10 / 2            | 5.0         |\n",
    "| Floor Division| //       | 10 // 3           | 3           |\n",
    "| Exponentiation| **       | 2 ** 3            | 8           |\n",
    "| Modulus       | %        | 10 % 3            | 1           |\n",
    "\n",
    "\n",
    "\n",
    "## Control Flow Statements {.smaller}\n",
    "### Conditional statements\n",
    "\n",
    "<br/>\n",
    "\n",
    "| Condition             | Mathematical Expression  | Description                                      |\n",
    "|-----------------------|-------------------------|--------------------------------------------------|\n",
    "| Equal                 | a == b                  | True if a is equal to b; otherwise, False.       |\n",
    "| Not Equal             | a != b                  | True if a is not equal to b; otherwise, False.   |\n",
    "| Greater Than          | a > b                   | True if a is greater than b; otherwise, False.   |\n",
    "| Less Than             | a < b                   | True if a is less than b; otherwise, False.      |\n",
    "| Greater Than or Equal | a >= b                  | True if a is greater than or equal to b; otherwise, False. |\n",
    "| Less Than or Equal    | a <= b                  | True if a is less than or equal to b; otherwise, False.    |\n",
    "\n",
    "<br/>\n",
    "<br/>\n",
    "\n",
    "And usually together with `if` statement"
   ]
  },
  {
   "cell_type": "code",
   "execution_count": 11,
   "id": "7d2d24d1",
   "metadata": {},
   "outputs": [
    {
     "name": "stdout",
     "output_type": "stream",
     "text": [
      "b is greater than a\n"
     ]
    }
   ],
   "source": [
    "#| echo: true\n",
    "\n",
    "\n",
    "a = 1\n",
    "b = 2\n",
    "if b > a:\n",
    "  print(\"b is greater than a\")"
   ]
  },
  {
   "cell_type": "markdown",
   "id": "2dbf7e1e",
   "metadata": {},
   "source": [
    "## Control Flow Statements \n",
    "### Conditional statements\n",
    "\n",
    "If we want to try multi-conditions, `elis` and `else` keywords are needed:\n"
   ]
  },
  {
   "cell_type": "code",
   "execution_count": 12,
   "id": "2d5a8ccd",
   "metadata": {},
   "outputs": [
    {
     "name": "stdout",
     "output_type": "stream",
     "text": [
      "a and b are equal\n"
     ]
    }
   ],
   "source": [
    "#| echo: true\n",
    "\n",
    "a = 33\n",
    "b = 33\n",
    "if b > a:\n",
    "    print(\"b is greater than a\")\n",
    "elif a == b:\n",
    "    print(\"a and b are equal\")\n",
    "else:\n",
    "    print(\"b is less than a\")\n"
   ]
  },
  {
   "cell_type": "markdown",
   "id": "d2daaa24",
   "metadata": {},
   "source": [
    "## Control Flow Statements\n",
    "### Loops\n",
    "\n",
    "- `for` loop\n",
    "- `while` loop\n",
    "- Both `for` and `while` loops can be liked to:\n",
    "    - `break` statement\n",
    "        - stop the loop before it has looped through all the items\n",
    "    - `continue` statement\n",
    "        - stop current iteration, move to next\n",
    "    - `else` statement\n",
    "        - to specifies codes to be executed when loop is ended\n",
    "\n",
    "## Control Flow Statements\n",
    "### `for` loop\n"
   ]
  },
  {
   "cell_type": "code",
   "execution_count": 13,
   "id": "38902d15",
   "metadata": {},
   "outputs": [
    {
     "name": "stdout",
     "output_type": "stream",
     "text": [
      "2\n",
      "4\n",
      "loos is over\n"
     ]
    }
   ],
   "source": [
    "#|echo: true\n",
    "\n",
    "numbers = [1,2,3,4]\n",
    "for x in numbers:\n",
    "    if x == 1:\n",
    "        continue\n",
    "    if x == 3:\n",
    "        continue\n",
    "    print(x)\n",
    "else:\n",
    "    print(\"loos is over\")"
   ]
  },
  {
   "cell_type": "markdown",
   "id": "d3e06203",
   "metadata": {},
   "source": [
    "with `break`:"
   ]
  },
  {
   "cell_type": "code",
   "execution_count": 14,
   "id": "cc8f8509",
   "metadata": {},
   "outputs": [
    {
     "name": "stdout",
     "output_type": "stream",
     "text": [
      "1\n"
     ]
    }
   ],
   "source": [
    "#|echo: true\n",
    "\n",
    "numbers = [1,2,3,4]\n",
    "for x in numbers:\n",
    "    if x == 2:\n",
    "      break\n",
    "    print(x)"
   ]
  },
  {
   "cell_type": "markdown",
   "id": "3723fb1a",
   "metadata": {},
   "source": [
    "## Control Flow Statements\n",
    "### `while` loop\n",
    "\n",
    "- Endless execute a set of statements as long as a condition is true.\n",
    "\n",
    "```python\n",
    "i = 1\n",
    "while i < 6:\n",
    "  print(i)\n",
    "  i += 1\n",
    "```\n",
    "- can also work with `break` and `continue`\n"
   ]
  },
  {
   "cell_type": "code",
   "execution_count": 15,
   "id": "d3f5a65f",
   "metadata": {},
   "outputs": [
    {
     "name": "stdout",
     "output_type": "stream",
     "text": [
      "1\n",
      "2\n"
     ]
    }
   ],
   "source": [
    "#| echo: true\n",
    "\n",
    "# here 5 is omitted\n",
    "i = 0\n",
    "while i < 6:\n",
    "    i = i + 1\n",
    "    if i == 3:\n",
    "        continue\n",
    "    if i == 4:\n",
    "        break\n",
    "    print(i)"
   ]
  },
  {
   "cell_type": "markdown",
   "id": "c0c6e8fc",
   "metadata": {},
   "source": [
    "## Function\n",
    "### Define and call function\n",
    "\n",
    "- The keyword `def` is used to define function\n",
    "\n",
    "```python\n",
    "def say_hello():\n",
    "    print(\"hello world!!\")\n",
    "```\n",
    "- Use the function name to call\n"
   ]
  },
  {
   "cell_type": "code",
   "execution_count": 16,
   "id": "bf5fe13e",
   "metadata": {},
   "outputs": [
    {
     "name": "stdout",
     "output_type": "stream",
     "text": [
      "hello world!!\n"
     ]
    }
   ],
   "source": [
    "#| echo: true\n",
    "\n",
    "# define a function\n",
    "def say_hello():\n",
    "    print(\"hello world!!\")\n",
    "\n",
    "# call the function\n",
    "say_hello()"
   ]
  },
  {
   "cell_type": "markdown",
   "id": "34a3ffad",
   "metadata": {},
   "source": [
    "- pass parameter\n"
   ]
  },
  {
   "cell_type": "code",
   "execution_count": 17,
   "id": "953d2074",
   "metadata": {},
   "outputs": [
    {
     "name": "stdout",
     "output_type": "stream",
     "text": [
      "Teemo hello world!!\n"
     ]
    }
   ],
   "source": [
    "#| echo: true\n",
    "\n",
    "\n",
    "def say_hello(name):\n",
    "    print(name+\" hello world!!\")\n",
    "    \n",
    "say_hello(\"Teemo\")"
   ]
  },
  {
   "cell_type": "markdown",
   "id": "f0381f93",
   "metadata": {},
   "source": [
    "## Usefull modeles\n",
    "### Numpy \n",
    "\n",
    "\n",
    "\n",
    "![](Numpy_logo.png){.absolute top=20 right=15 width=\"100\"}\n"
   ]
  }
 ],
 "metadata": {
  "kernelspec": {
   "display_name": "Python 3 (ipykernel)",
   "language": "python",
   "name": "python3"
  }
 },
 "nbformat": 4,
 "nbformat_minor": 5
}
